{
 "cells": [
  {
   "cell_type": "markdown",
   "metadata": {},
   "source": [
    "# polindrome number\n",
    "write a program to determine if gien number is polindrome or not.print true if it is  polindrome otherwise false"
   ]
  },
  {
   "cell_type": "code",
   "execution_count": 5,
   "metadata": {},
   "outputs": [
    {
     "name": "stdout",
     "output_type": "stream",
     "text": [
      "2002\n",
      "True\n"
     ]
    }
   ],
   "source": [
    "n=int(input())\n",
    "temp = n\n",
    "Reverse = 0\n",
    "while n>0:\n",
    "    Reminder = n%10\n",
    "    Reverse = (Reverse*10)+ Reminder\n",
    "    n = n//10\n",
    "if (temp== Reverse):\n",
    "    print(True)\n",
    "else:\n",
    "    print(False)"
   ]
  }
 ],
 "metadata": {
  "kernelspec": {
   "display_name": "Python 3",
   "language": "python",
   "name": "python3"
  },
  "language_info": {
   "codemirror_mode": {
    "name": "ipython",
    "version": 3
   },
   "file_extension": ".py",
   "mimetype": "text/x-python",
   "name": "python",
   "nbconvert_exporter": "python",
   "pygments_lexer": "ipython3",
   "version": "3.8.3"
  }
 },
 "nbformat": 4,
 "nbformat_minor": 4
}
