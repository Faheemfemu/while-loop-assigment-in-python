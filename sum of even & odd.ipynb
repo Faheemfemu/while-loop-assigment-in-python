{
 "cells": [
  {
   "cell_type": "markdown",
   "metadata": {},
   "source": [
    "# Sum of even & odd\n",
    "Write a program to input an integer N and print the sum of all its even digits and sum of all its odd digits separately.\n",
    "Digits mean numbers, not the places! That is, if the given integer is \"13245\", even digits are 2 & 4 and odd digits are 1, 3 & 5.\n",
    "Input format :\n",
    " Integer N\n",
    "Output format :\n",
    "Sum_of_Even_Digits Sum_of_Odd_Digits\n",
    "(Print first even sum and then odd sum separated by space)\n",
    "Constraints\n",
    "0 <= N <= 10^8\n",
    "Sample Input 1:\n",
    "1234\n",
    "Sample Output 1:\n",
    "6 4\n",
    "Sample Input 2:\n",
    "552245\n",
    "Sample Output 2:\n",
    "8 15\n"
   ]
  },
  {
   "cell_type": "code",
   "execution_count": 6,
   "metadata": {},
   "outputs": [
    {
     "name": "stdout",
     "output_type": "stream",
     "text": [
      "12345\n",
      "6 9\n"
     ]
    }
   ],
   "source": [
    "n = int(input())\n",
    "even_sum = 0\n",
    "odd_sum = 0\n",
    "while n >0:\n",
    "    i = n%10\n",
    "    if i%2==0:\n",
    "        even_sum= even_sum + i\n",
    "    else:\n",
    "        odd_sum = odd_sum + i\n",
    "    n = n//10\n",
    "    \n",
    "print(even_sum,odd_sum)"
   ]
  }
 ],
 "metadata": {
  "kernelspec": {
   "display_name": "Python 3",
   "language": "python",
   "name": "python3"
  },
  "language_info": {
   "codemirror_mode": {
    "name": "ipython",
    "version": 3
   },
   "file_extension": ".py",
   "mimetype": "text/x-python",
   "name": "python",
   "nbconvert_exporter": "python",
   "pygments_lexer": "ipython3",
   "version": "3.8.3"
  }
 },
 "nbformat": 4,
 "nbformat_minor": 4
}
