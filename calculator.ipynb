{
 "cells": [
  {
   "cell_type": "markdown",
   "metadata": {},
   "source": [
    "# Calculator\n",
    "Write a program that performs the tasks of a simple calculator. The program should first take an integer as input and then based on that integer perform the task as given below.\n",
    "1. If the input is 1, then 2 integers are taken from the user and their sum is printed.\n",
    "2. If the input is 2, then 2 integers are taken from the user and their difference(1st number - 2nd number) is printed.\n",
    "3. If the input is 3, then 2 integers are taken from the user and their product is printed.\n",
    "4. If the input is 4, then 2 integers are taken from the user and the quotient obtained (on dividing 1st number by 2nd number) is printed.\n",
    "5. If the input is 5, then 2 integers are taken from the user and their remainder(1st number mod 2nd number) is printed.\n",
    "6. If the input is 6, then the program exits.\n",
    "7. For any other input, then print \"Invalid Operation\".\n",
    "\n"
   ]
  },
  {
   "cell_type": "code",
   "execution_count": 9,
   "metadata": {},
   "outputs": [
    {
     "name": "stdout",
     "output_type": "stream",
     "text": [
      "4\n",
      "4\n",
      "3\n",
      "4 // 3 = 1\n"
     ]
    }
   ],
   "source": [
    "def add(num1,num2):\n",
    "    return num1 + num2\n",
    "def subtract(num1,num2):\n",
    "    return num1-num2\n",
    "def multiply(num1,num2):\n",
    "    return num1*num2\n",
    "def divide(num1,num2):\n",
    "    return num1 // num2\n",
    "def mod(num1,num2):\n",
    "    return num1 % num2\n",
    "\n",
    "n = int(input())\n",
    "num1 = int(input())\n",
    "num2 =int(input())\n",
    "if n==1:\n",
    "    print(num1, \"+\",num2, \"=\",add(num1,num2))\n",
    "elif n==2:\n",
    "    print(num1,\"-\",num2,\"=\",subtract(num1,num2))\n",
    "elif n==3:\n",
    "    print(num1,\"*\",num2,\"=\",multiply(num1,num2))\n",
    "elif n==4:\n",
    "    print(num1,\"//\",num2,\"=\",divide(num1,num2))\n",
    "elif n==5:\n",
    "    print(num1,\"%\",num2,\"=\",mod(num1,num2))\n",
    "elif n==6:\n",
    "    print(\"program exist\")\n",
    "else :\n",
    "    print(\"invailid operation\")"
   ]
  },
  {
   "cell_type": "code",
   "execution_count": null,
   "metadata": {},
   "outputs": [],
   "source": []
  }
 ],
 "metadata": {
  "kernelspec": {
   "display_name": "Python 3",
   "language": "python",
   "name": "python3"
  },
  "language_info": {
   "codemirror_mode": {
    "name": "ipython",
    "version": 3
   },
   "file_extension": ".py",
   "mimetype": "text/x-python",
   "name": "python",
   "nbconvert_exporter": "python",
   "pygments_lexer": "ipython3",
   "version": "3.8.3"
  }
 },
 "nbformat": 4,
 "nbformat_minor": 4
}
